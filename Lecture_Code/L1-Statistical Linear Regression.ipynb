{
 "cells": [
  {
   "cell_type": "code",
   "execution_count": 19,
   "metadata": {},
   "outputs": [
    {
     "name": "stdout",
     "output_type": "stream",
     "text": [
      "-17.04768667660043 = [  1.          -0.58434432  -6.89632658 -14.32356028   0.        ]\n",
      "-17.043179306214142 = [  1.          -0.58434432  -6.89632658 -14.32356028   0.        ]\n",
      "-17.043179306214142 = [  1.          -0.58434432  -6.89632658 -14.32356028   0.        ]\n",
      "-11.182193210214665 = [  1.           1.24250647  -5.06947579 -11.5832841    0.        ]\n",
      "-11.184429990185434 = [  1.           1.24250647  -5.06947579 -11.5832841    0.        ]\n",
      "-11.201048240789785 = [  1.           1.24250647  -5.06947579 -11.5832841    0.        ]\n",
      "-11.128809980461135 = [  1.           1.24250647  -5.06947579 -11.5832841    1.        ]\n",
      "-11.144379056976163 = [  1.           1.24250647  -5.06947579 -11.5832841    1.        ]\n",
      "-11.155447147167221 = [  1.           1.24250647  -5.06947579 -11.5832841    1.        ]\n",
      "-15.523253296817732 = [  1.          -0.58434432  -6.45368247 -14.32356028   0.        ]\n",
      "-15.554249757189066 = [  1.          -0.58434432  -6.45368247 -14.32356028   0.        ]\n",
      "-15.41671123542705 = [  1.          -0.58434432  -6.45368247 -14.32356028   0.        ]\n",
      "-11.440165467617938 = [  1.           0.66268797  -5.20665018 -12.45301184   0.        ]\n",
      "-11.38718010198161 = [  1.           0.66268797  -5.20665018 -12.45301184   0.        ]\n",
      "-11.312858550450299 = [  1.           0.66268797  -5.20665018 -12.45301184   0.        ]\n",
      "-11.302639044616816 = [  1.           0.60976557  -5.20665018 -12.45301184   0.        ]\n",
      "-11.45220434633589 = [  1.           0.60976557  -5.20665018 -12.45301184   0.        ]\n",
      "-11.465641241008132 = [  1.           0.60976557  -5.20665018 -12.45301184   0.        ]\n",
      "-11.370382394588486 = [  1.           0.55388511  -5.20665018 -12.45301184   0.        ]\n",
      "-11.525903434551196 = [  1.           0.55388511  -5.20665018 -12.45301184   0.        ]\n",
      "-11.503419593973398 = [  1.           0.55388511  -5.20665018 -12.45301184   0.        ]\n",
      "-11.475855834417851 = [  1.           0.49469624  -5.20665018 -12.45301184   0.        ]\n",
      "-11.491985216347734 = [  1.           0.49469624  -5.20665018 -12.45301184   0.        ]\n",
      "-11.593187096856703 = [  1.           0.49469624  -5.20665018 -12.45301184   0.        ]\n",
      "-11.492984716680818 = [  1.           0.43178242  -5.20665018 -12.45301184   0.        ]\n",
      "-11.653253363943858 = [  1.           0.43178242  -5.20665018 -12.45301184   0.        ]\n",
      "-11.588204074088278 = [  1.           0.43178242  -5.20665018 -12.45301184   0.        ]\n",
      "-11.557772956885739 = [  1.           0.36464311  -5.20665018 -12.45301184   0.        ]\n",
      "-11.654529145533015 = [  1.           0.36464311  -5.20665018 -12.45301184   0.        ]\n",
      "-11.714328447491175 = [  1.           0.36464311  -5.20665018 -12.45301184   0.        ]\n",
      "-11.617736421653294 = [  1.           0.29266961  -5.20665018 -12.45301184   0.        ]\n",
      "-11.650270195313448 = [  1.           0.29266961  -5.20665018 -12.45301184   0.        ]\n",
      "-11.766961916301963 = [  1.           0.29266961  -5.20665018 -12.45301184   0.        ]\n",
      "-11.338251116405694 = [  1.           0.66268797  -5.20665018 -12.45301184   1.        ]\n",
      "-11.256262882826665 = [  1.           0.66268797  -5.20665018 -12.45301184   1.        ]\n",
      "-11.404792004645357 = [  1.           0.66268797  -5.20665018 -12.45301184   1.        ]\n",
      "-11.316440643832804 = [  1.           0.60976557  -5.20665018 -12.45301184   1.        ]\n",
      "-11.554490421699132 = [  1.           0.60976557  -5.20665018 -12.45301184   1.        ]\n",
      "-11.316440643832804 = [  1.           0.60976557  -5.20665018 -12.45301184   1.        ]\n",
      "-11.410775160922192 = [  1.           0.55388511  -5.20665018 -12.45301184   1.        ]\n",
      "-11.448033328818552 = [  1.           0.55388511  -5.20665018 -12.45301184   1.        ]\n",
      "-11.549310282967005 = [  1.           0.55388511  -5.20665018 -12.45301184   1.        ]\n",
      "-11.475855834417851 = [  1.           0.49469624  -5.20665018 -12.45301184   1.        ]\n",
      "-11.428512793392162 = [  1.           0.49469624  -5.20665018 -12.45301184   1.        ]\n",
      "-11.63867959549854 = [  1.           0.49469624  -5.20665018 -12.45301184   1.        ]\n",
      "-11.470250724201728 = [  1.           0.43178242  -5.20665018 -12.45301184   1.        ]\n",
      "-11.619058298911211 = [  1.           0.43178242  -5.20665018 -12.45301184   1.        ]\n",
      "-11.617295407313181 = [  1.           0.43178242  -5.20665018 -12.45301184   1.        ]\n",
      "-11.565235678087328 = [  1.           0.36464311  -5.20665018 -12.45301184   1.        ]\n",
      "-11.579538113355596 = [  1.           0.36464311  -5.20665018 -12.45301184   1.        ]\n",
      "-11.717525892261666 = [  1.           0.36464311  -5.20665018 -12.45301184   1.        ]\n",
      "-11.587749838332114 = [  1.           0.29266961  -5.20665018 -12.45301184   1.        ]\n",
      "-11.64727810075377 = [  1.           0.29266961  -5.20665018 -12.45301184   1.        ]\n",
      "-11.731395740125818 = [  1.           0.29266961  -5.20665018 -12.45301184   1.        ]\n",
      "-15.185506428184251 = [  1.          -0.590075    -6.34244147 -14.33215629   0.        ]\n",
      "-15.143876199136912 = [  1.          -0.590075    -6.34244147 -14.33215629   0.        ]\n",
      "-15.118283954888721 = [  1.          -0.590075    -6.34244147 -14.33215629   0.        ]\n",
      "-15.470833291325517 = [  1.          -0.6429974   -6.34244147 -14.33215629   0.        ]\n",
      "-15.51486556147602 = [  1.          -0.6429974   -6.34244147 -14.33215629   0.        ]\n",
      "-15.337577469363648 = [  1.          -0.6429974   -6.34244147 -14.33215629   0.        ]\n",
      "-11.377065666596398 = [  1.           0.54935929  -5.20300719 -12.62300487   0.        ]\n",
      "-11.427166888126347 = [  1.           0.54935929  -5.20300719 -12.62300487   0.        ]\n",
      "-11.421485054658916 = [  1.           0.54935929  -5.20300719 -12.62300487   0.        ]\n",
      "-11.404243248224411 = [  1.           0.49643689  -5.20300719 -12.62300487   0.        ]\n",
      "-11.49757518801663 = [  1.           0.49643689  -5.20300719 -12.62300487   0.        ]\n",
      "-11.459225382641764 = [  1.           0.49643689  -5.20300719 -12.62300487   0.        ]\n",
      "-11.437734087549996 = [  1.           0.44055643  -5.20300719 -12.62300487   0.        ]\n",
      "-11.522348293221848 = [  1.           0.44055643  -5.20300719 -12.62300487   0.        ]\n",
      "-11.416486829330122 = [  1.           0.44055643  -5.20300719 -12.62300487   0.        ]\n",
      "-11.476226812211092 = [  1.           0.38136756  -5.20300719 -12.62300487   0.        ]\n",
      "-11.510038452000362 = [  1.           0.38136756  -5.20300719 -12.62300487   0.        ]\n",
      "-11.58354091399329 = [  1.           0.38136756  -5.20300719 -12.62300487   0.        ]\n",
      "-11.467422149845943 = [  1.           0.31845373  -5.20300719 -12.62300487   0.        ]\n",
      "-11.526845570316743 = [  1.           0.31845373  -5.20300719 -12.62300487   0.        ]\n",
      "-11.704347840674748 = [  1.           0.31845373  -5.20300719 -12.62300487   0.        ]\n",
      "-11.513942165480836 = [  1.           0.25131443  -5.20300719 -12.62300487   0.        ]\n",
      "-11.654268601238186 = [  1.           0.25131443  -5.20300719 -12.62300487   0.        ]\n",
      "-11.716087569955272 = [  1.           0.25131443  -5.20300719 -12.62300487   0.        ]\n",
      "-11.696804701460286 = [  1.           0.17934093  -5.20300719 -12.62300487   0.        ]\n",
      "-11.793637886299967 = [  1.           0.17934093  -5.20300719 -12.62300487   0.        ]\n",
      "-11.708098179921793 = [  1.           0.17934093  -5.20300719 -12.62300487   0.        ]\n",
      "-11.392581308476569 = [  1.           0.54935929  -5.20300719 -12.62300487   1.        ]\n",
      "-11.401340488566449 = [  1.           0.54935929  -5.20300719 -12.62300487   1.        ]\n",
      "-11.360548774595486 = [  1.           0.54935929  -5.20300719 -12.62300487   1.        ]\n",
      "-11.511992213611757 = [  1.           0.44055643  -5.20300719 -12.62300487   1.        ]\n",
      "-11.455101665457901 = [  1.           0.44055643  -5.20300719 -12.62300487   1.        ]\n",
      "-11.509386348944975 = [  1.           0.44055643  -5.20300719 -12.62300487   1.        ]\n",
      "-11.472849571581307 = [  1.           0.38136756  -5.20300719 -12.62300487   1.        ]\n",
      "-11.464697352519757 = [  1.           0.38136756  -5.20300719 -12.62300487   1.        ]\n",
      "-11.594983375483961 = [  1.           0.38136756  -5.20300719 -12.62300487   1.        ]\n",
      "-11.661017783213115 = [  1.           0.31845373  -5.20300719 -12.62300487   1.        ]\n",
      "-11.613376062469023 = [  1.           0.31845373  -5.20300719 -12.62300487   1.        ]\n",
      "-11.629124419437161 = [  1.           0.31845373  -5.20300719 -12.62300487   1.        ]\n",
      "-11.67382776066539 = [  1.           0.25131443  -5.20300719 -12.62300487   1.        ]\n",
      "-11.592585292799948 = [  1.           0.25131443  -5.20300719 -12.62300487   1.        ]\n",
      "-11.61396377920648 = [  1.           0.25131443  -5.20300719 -12.62300487   1.        ]\n",
      "-11.605704145229062 = [  1.           0.17934093  -5.20300719 -12.62300487   1.        ]\n",
      "-11.674381011025282 = [  1.           0.17934093  -5.20300719 -12.62300487   1.        ]\n",
      "-11.532598222806193 = [  1.           0.17934093  -5.20300719 -12.62300487   1.        ]\n",
      "-14.648585250176525 = [  1.          -0.590075    -6.2146081  -14.33215629   0.        ]\n",
      "-14.682633132608755 = [  1.          -0.590075    -6.2146081  -14.33215629   0.        ]\n",
      "-14.689680378124159 = [  1.          -0.590075    -6.2146081  -14.33215629   0.        ]\n",
      "-14.781323645534982 = [  1.          -0.6429974   -6.2146081  -14.33215629   0.        ]\n",
      "-14.69621329916578 = [  1.          -0.6429974   -6.2146081  -14.33215629   0.        ]\n",
      "-14.735881139534202 = [  1.          -0.6429974   -6.2146081  -14.33215629   0.        ]\n",
      "-14.791523478970106 = [  1.          -0.69887786  -6.2146081  -14.33215629   0.        ]\n",
      "-14.82519949429119 = [  1.          -0.69887786  -6.2146081  -14.33215629   0.        ]\n",
      "-14.849433313500086 = [  1.          -0.69887786  -6.2146081  -14.33215629   0.        ]\n",
      "-14.710070333827208 = [  1.          -0.590075    -6.2146081  -14.33215629   1.        ]\n",
      "-14.623392512544472 = [  1.          -0.590075    -6.2146081  -14.33215629   1.        ]\n",
      "-14.69900011007296 = [  1.          -0.590075    -6.2146081  -14.33215629   1.        ]\n",
      "-14.774035296015875 = [  1.          -0.6429974   -6.2146081  -14.33215629   1.        ]\n",
      "-14.70039060855888 = [  1.          -0.6429974   -6.2146081  -14.33215629   1.        ]\n",
      "-14.770587016736958 = [  1.          -0.6429974   -6.2146081  -14.33215629   1.        ]\n",
      "-14.791946222582405 = [  1.          -0.69887786  -6.2146081  -14.33215629   1.        ]\n",
      "-14.823153248437032 = [  1.          -0.69887786  -6.2146081  -14.33215629   1.        ]\n",
      "-14.848235469475847 = [  1.          -0.69887786  -6.2146081  -14.33215629   1.        ]\n",
      "-11.225960810937838 = [  1.           0.42209751  -5.20243559 -12.81389754   0.        ]\n",
      "-11.332035357329321 = [  1.           0.42209751  -5.20243559 -12.81389754   0.        ]\n",
      "-11.398312195411943 = [  1.           0.42209751  -5.20243559 -12.81389754   0.        ]\n",
      "-11.332035357329321 = [  1.           0.36917511  -5.20243559 -12.81389754   0.        ]\n",
      "-11.322352656612903 = [  1.           0.36917511  -5.20243559 -12.81389754   0.        ]\n",
      "-11.450056289977429 = [  1.           0.36917511  -5.20243559 -12.81389754   0.        ]\n",
      "-11.454802383366685 = [  1.           0.31329465  -5.20243559 -12.81389754   0.        ]\n",
      "-11.367791006377056 = [  1.           0.31329465  -5.20243559 -12.81389754   0.        ]\n",
      "-11.462349589002068 = [  1.           0.31329465  -5.20243559 -12.81389754   0.        ]\n",
      "-11.345858012286557 = [  1.           0.25410578  -5.20243559 -12.81389754   0.        ]\n",
      "-11.54787176244023 = [  1.           0.25410578  -5.20243559 -12.81389754   0.        ]\n",
      "-11.470772661731177 = [  1.           0.25410578  -5.20243559 -12.81389754   0.        ]\n",
      "-11.408282367731793 = [  1.           0.19119195  -5.20243559 -12.81389754   0.        ]\n",
      "-11.580132624658452 = [  1.           0.19119195  -5.20243559 -12.81389754   0.        ]\n",
      "-11.629837356360865 = [  1.           0.19119195  -5.20243559 -12.81389754   0.        ]\n",
      "-11.489240407277016 = [  1.           0.12405265  -5.20243559 -12.81389754   0.        ]\n",
      "-11.577623213053027 = [  1.           0.12405265  -5.20243559 -12.81389754   0.        ]\n",
      "-11.674911030985742 = [  1.           0.12405265  -5.20243559 -12.81389754   0.        ]\n",
      "-11.568367783078866 = [  1.           0.05207915  -5.20243559 -12.81389754   0.        ]\n",
      "-11.80577930619078 = [  1.           0.05207915  -5.20243559 -12.81389754   0.        ]\n",
      "-11.575946766725774 = [  1.           0.05207915  -5.20243559 -12.81389754   0.        ]\n",
      "-11.332035357329321 = [  1.           0.42209751  -5.20243559 -12.81389754   1.        ]\n",
      "-11.248327841084734 = [  1.           0.42209751  -5.20243559 -12.81389754   1.        ]\n",
      "-11.332035357329321 = [  1.           0.42209751  -5.20243559 -12.81389754   1.        ]\n",
      "-11.306003518611375 = [  1.           0.36917511  -5.20243559 -12.81389754   1.        ]\n",
      "-11.380111490765096 = [  1.           0.36917511  -5.20243559 -12.81389754   1.        ]\n",
      "-11.44433108349939 = [  1.           0.36917511  -5.20243559 -12.81389754   1.        ]\n",
      "-11.395301656259072 = [  1.           0.31329465  -5.20243559 -12.81389754   1.        ]\n",
      "-11.323433153746658 = [  1.           0.31329465  -5.20243559 -12.81389754   1.        ]\n",
      "-11.349020903695065 = [  1.           0.31329465  -5.20243559 -12.81389754   1.        ]\n",
      "-11.39228202638535 = [  1.           0.25410578  -5.20243559 -12.81389754   1.        ]\n",
      "-11.43084340311744 = [  1.           0.25410578  -5.20243559 -12.81389754   1.        ]\n",
      "-11.49834793835398 = [  1.           0.25410578  -5.20243559 -12.81389754   1.        ]\n",
      "-11.504674213406858 = [  1.           0.19119195  -5.20243559 -12.81389754   1.        ]\n",
      "-11.44433108349939 = [  1.           0.19119195  -5.20243559 -12.81389754   1.        ]\n",
      "-11.603255042079306 = [  1.           0.19119195  -5.20243559 -12.81389754   1.        ]\n",
      "-11.506474393911006 = [  1.           0.12405265  -5.20243559 -12.81389754   1.        ]\n",
      "-11.56073091948852 = [  1.           0.12405265  -5.20243559 -12.81389754   1.        ]\n",
      "-11.544414542056373 = [  1.           0.12405265  -5.20243559 -12.81389754   1.        ]\n",
      "-11.536591816375163 = [  1.           0.05207915  -5.20243559 -12.81389754   1.        ]\n",
      "-11.675670620843759 = [  1.           0.05207915  -5.20243559 -12.81389754   1.        ]\n",
      "-11.805112417203077 = [  1.           0.05207915  -5.20243559 -12.81389754   1.        ]\n",
      "-16.552583961309352 = [  1.          -0.590075    -6.70656524 -14.33215629   0.        ]\n",
      "-16.548360243990274 = [  1.          -0.590075    -6.70656524 -14.33215629   0.        ]\n",
      "-16.63879565812842 = [  1.          -0.590075    -6.70656524 -14.33215629   0.        ]\n",
      "-11.147395786385704 = [  1.           0.97466274  -5.1418275  -11.98504969   0.        ]\n",
      "-11.157374945328966 = [  1.           0.97466274  -5.1418275  -11.98504969   0.        ]\n",
      "-11.18267673781025 = [  1.           0.97466274  -5.1418275  -11.98504969   0.        ]\n",
      "-11.095608576515785 = [  1.           0.92174034  -5.1418275  -11.98504969   0.        ]\n",
      "-11.275371496519416 = [  1.           0.92174034  -5.1418275  -11.98504969   0.        ]\n",
      "-11.273376909734768 = [  1.           0.92174034  -5.1418275  -11.98504969   0.        ]\n",
      "-11.247371399162049 = [  1.           0.86585988  -5.1418275  -11.98504969   0.        ]\n",
      "-11.45184049217866 = [  1.           0.86585988  -5.1418275  -11.98504969   0.        ]\n",
      "-11.358889731479104 = [  1.           0.86585988  -5.1418275  -11.98504969   0.        ]\n",
      "-11.33530935689145 = [  1.           0.80667101  -5.1418275  -11.98504969   0.        ]\n",
      "-11.489766385805886 = [  1.           0.80667101  -5.1418275  -11.98504969   0.        ]\n",
      "-11.487236194691826 = [  1.           0.80667101  -5.1418275  -11.98504969   0.        ]\n",
      "-11.397667217934824 = [  1.           0.74375718  -5.1418275  -11.98504969   0.        ]\n",
      "-11.542998988502811 = [  1.           0.74375718  -5.1418275  -11.98504969   0.        ]\n",
      "-11.519862559333742 = [  1.           0.74375718  -5.1418275  -11.98504969   0.        ]\n",
      "-11.452556055715453 = [  1.           0.67661788  -5.1418275  -11.98504969   0.        ]\n",
      "-11.50368243107027 = [  1.           0.67661788  -5.1418275  -11.98504969   0.        ]\n",
      "-11.519862559333742 = [  1.           0.67661788  -5.1418275  -11.98504969   0.        ]\n",
      "-11.531607846710054 = [  1.           0.60464438  -5.1418275  -11.98504969   0.        ]\n",
      "-11.599116176992922 = [  1.           0.60464438  -5.1418275  -11.98504969   0.        ]\n",
      "-11.628539015672493 = [  1.           0.60464438  -5.1418275  -11.98504969   0.        ]\n",
      "-11.157374945328966 = [  1.           0.97466274  -5.1418275  -11.98504969   1.        ]\n",
      "-11.182988993862747 = [  1.           0.97466274  -5.1418275  -11.98504969   1.        ]\n",
      "-11.275086799008596 = [  1.           0.92174034  -5.1418275  -11.98504969   1.        ]\n",
      "-11.243264617209396 = [  1.           0.92174034  -5.1418275  -11.98504969   1.        ]\n",
      "-11.247371399162049 = [  1.           0.86585988  -5.1418275  -11.98504969   1.        ]\n",
      "-11.358889731479104 = [  1.           0.86585988  -5.1418275  -11.98504969   1.        ]\n",
      "-11.343851854114565 = [  1.           0.80667101  -5.1418275  -11.98504969   1.        ]\n",
      "-11.413659562767746 = [  1.           0.80667101  -5.1418275  -11.98504969   1.        ]\n",
      "-11.390842978131216 = [  1.           0.74375718  -5.1418275  -11.98504969   1.        ]\n",
      "-11.444896851207169 = [  1.           0.74375718  -5.1418275  -11.98504969   1.        ]\n",
      "-11.549944968241814 = [  1.           0.67661788  -5.1418275  -11.98504969   1.        ]\n",
      "-11.588558165657982 = [  1.           0.67661788  -5.1418275  -11.98504969   1.        ]\n",
      "-11.575992555297617 = [  1.           0.60464438  -5.1418275  -11.98504969   1.        ]\n",
      "-11.548646266760578 = [  1.           0.60464438  -5.1418275  -11.98504969   1.        ]\n",
      "-11.595402535423561 = [  1.           0.60464438  -5.1418275  -11.98504969   1.        ]\n"
     ]
    }
   ],
   "source": [
    "import numpy as np\n",
    "import scipy.stats as stats\n",
    "\n",
    "# data columns: Time(s) Height(mm) Diameter(mm) Length(mm) Observer(0|1)\n",
    "D = np.loadtxt(\"../data/measurements.txt\")\n",
    "\n",
    "\n",
    "# prepare data for analysis\n",
    "v = 20000  # 20 ml target volume\n",
    "g = 9820  # acceleration due to gravity in mm/s\n",
    "nu = 1.53  # kinematic vicosity, mu/rho, mm^2/s\n",
    "M = []\n",
    "for [t, h, d, l] in D[:, 0:4]:\n",
    "    M.append([(v/t)/((l**2)*((l*g)**0.5)), (h/l), (d/l), (nu/(l*((l*g)**0.5)))])\n",
    "M = np.array(M)\n",
    "\n",
    "# Model specification matrix, replace column 1 with ones, take natural log of values\n",
    "X = np.log(M[:, 0:4])\n",
    "X[:, 0] = 1\n",
    "X = np.c_[X, D[:, 4]]  # add observer indicator variable\n",
    "\n",
    "# Realization of response vector\n",
    "y = np.log(M[:, 0])\n",
    "\n",
    "for i, yi in enumerate(y):\n",
    "    print(f\"{yi} = {X[i]}\")"
   ]
  },
  {
   "cell_type": "markdown",
   "metadata": {},
   "source": [
    "### Fysisk modell\n",
    "\n",
    "$\\frac{\\langle Q\\rangle}{l^2\\sqrt{lg}}=\\Phi(\\frac{h}{l}, \\frac{d}{l}, \\frac{\\mu}{\\rho l\\sqrt{lg}})$\n",
    "\n",
    "där $l$ är ett rörs längd, $d$ dess diameter, $h$ är vattenreservoarens höjd över röret, $g$ är accelerationen pga gravitation, $\\mu$ är vätskans viskositet och $\\rho$ dess densitet. $Q$ är den uppmätta flödeshastigheten. Detta har räknats fram med Buckinghams Teorem, en dimensionsanalysteknik från fysiken.\n",
    "\n",
    "Genom att ansätta nya variabler istället för kvoterna och anta en potensform kan uttrycket skrivas om på formen\n",
    "\n",
    "\\begin{equation}\n",
    "q = \\alpha k^ar^bm^c.\n",
    "\\end{equation}\n",
    "\n",
    "Linearisering genom att ta $\\ln$ i båda led:\n",
    "\n",
    "\\begin{equation*}\n",
    "    \\ln q = \\ln \\alpha + a \\ln k + b \\ln r + c \\ln m.\n",
    "\\end{equation*}\n",
    "Vi kan se detta som formen:\n",
    "\\begin{equation}\n",
    "    \\mu_{Y|x_1,x_2,x_3} = \\beta_0 + \\beta_1 x_1 + \\beta_2 x_2 + \\beta_3 x_3\n",
    "\\end{equation}\n",
    "alltså\n",
    "\\begin{equation*}\n",
    "    \\mathbf{Y} = X\\boldsymbol\\beta + \\mathbf{E},\n",
    "\\end{equation*}\n",
    "där $X$ är modellspecifikations matrisen. $\\mathbf{E}$ är vektorn med stokastiska fel med avseende på väntevärdet och $\\mathbf{Y}$ är en respons vektor för $Y$ över hela stickprovet. \n",
    "\n",
    "Normalform: \n",
    "\\begin{equation*}\n",
    "    (X'X)\\mathbf{b} = X'\\mathbf{y},\n",
    "\\end{equation*}\n",
    "där $\\mathbf{y}$ är vektorn av observeraded värden i respons vektorn $\\mathbf{Y}$ och $\\mathbf{b}$ är den sökta vektorn med de uppskattade modell parametrarna. OLS för $\\boldsymbol\\beta$ blir,\n",
    "\\begin{equation}\n",
    "    \\boldsymbol{\\hat{\\beta}} = \\mathbf{b} = (X'X)^{-1}X'\\mathbf{y}.\n",
    "\\end{equation}"
   ]
  },
  {
   "cell_type": "markdown",
   "metadata": {},
   "source": [
    "### Regression och statistik"
   ]
  },
  {
   "cell_type": "code",
   "execution_count": 28,
   "metadata": {},
   "outputs": [
    {
     "data": {
      "text/plain": [
       "array([-2.58376909,  0.87000771,  3.60315069, -0.75188958,  0.0168805 ])"
      ]
     },
     "execution_count": 28,
     "metadata": {},
     "output_type": "execute_result"
    }
   ],
   "source": [
    "# Multiple linear regression, least squares estimate for ^B\n",
    "b = np.linalg.inv(X.T @ X) @ X.T @ y\n"
   ]
  },
  {
   "cell_type": "markdown",
   "metadata": {},
   "source": [
    "Vi räknar ut ett antal statistiska värden:\n",
    "\n",
    "$v$ antalet parametrar i modellen (number of features)\n",
    "\n",
    "$n$ stickprovets storlek (number of samples, sample size)\n",
    "\n",
    "SSE Sum of Squared Errors aka Residual Sum of Squares\n",
    "\n",
    "\\begin{equation}\n",
    "\\sum_{i=1}^n[y_i - (b_0 + b_1 x_{1i} + ... + b_k x_{ki})]²\n",
    "\\end{equation}\n",
    "\n",
    "Vilket alltså betyder att vi drar ifrån högerledet från vänsterledet på varje rad, kvadrerar och sedan lägger ihop alla resultaten.\n",
    "\n",
    "Variansen\n",
    "\n",
    "$\\sigma^2 = \\frac{\\mathrm{SSE}}{n-v-1}$ \n",
    "\n",
    "Standarddeviation\n",
    "\n",
    "$S = \\sqrt{\\sigma^2} = \\sigma$\n",
    "\n",
    "SSR Regression Sum of Squares\n",
    "\\begin{equation}\n",
    "b_0 \\sum_{i=1}^n{y_i} + b_1 \\sum_{i=1}^n{x_{1i}y_i} + ... + b_v \\sum_{i=1}^n{x_{vi} y_i} - \\frac{(\\sum_{i=1}^n{y_i})²}{n}\n",
    "\\end{equation}\n",
    "\n",
    "$S_{yy}$ total varians (i responsvektorn Y)\n",
    "\n",
    "\\begin{equation}\n",
    "\\sum_{i=1}^n{y_i²}-\\frac{(\\sum_{i=1}^n{y_i})²}{n}\n",
    "\\end{equation}\n",
    "\n"
   ]
  },
  {
   "cell_type": "code",
   "execution_count": 21,
   "metadata": {},
   "outputs": [],
   "source": [
    "# Sum of Squared Errors, deviation and variance\n",
    "v = len(b)-1\n",
    "n = len(M)\n",
    "SSE = np.sum(np.square(y - (X @ b)))\n",
    "var = SSE/(n-v-1)\n",
    "S = np.sqrt(var)\n",
    "\n",
    "# Regression sum of squares, total variance\n",
    "SSR = np.sum(b*(X.T @ y)) - (np.square(np.sum(y))/n)\n",
    "Syy = np.sum(np.square(y)) - (np.square(np.sum(y))/n)\n"
   ]
  },
  {
   "cell_type": "markdown",
   "metadata": {},
   "source": [
    "## Signifikanstest\n",
    "Är regressionen signifikant? Eller är alla $\\beta_i$ = 0?\n",
    "\n",
    "Ett sorts rimlighetstest -- om vi inte klarar detta test är det ingen idé att försöka utröna något ur resultaten.\n",
    "\n",
    "Vår hypotes $H_0$ är alltså att alla $\\beta_i$ är noll.\n",
    "\n",
    "Om detta är sant följer nedanstående uttryck en F-distribution med $k$ och $n-k-1$ frihetsgrader. Detta värde läses av i en tabell.\n",
    "\n",
    "\\begin{equation}\n",
    "\\frac{\\mathrm{SSR}/k}{S²}\n",
    "\\end{equation}\n",
    "där $S²$ är en uppskattning av $\\sigma²$.\n",
    "\n",
    "Om vi får ett väldigt litet värde är alltså hypotesen falsk, och minst en parameter förklarar någon del av datan."
   ]
  },
  {
   "cell_type": "code",
   "execution_count": 29,
   "metadata": {},
   "outputs": [
    {
     "data": {
      "text/plain": [
       "2.1976043471186423e-244"
      ]
     },
     "execution_count": 29,
     "metadata": {},
     "output_type": "execute_result"
    }
   ],
   "source": [
    "# Significant regression test, test rejects for large values\n",
    "sig_statistic = (SSR/v)/var\n",
    "\n",
    "# P score for H0 in significance test is very close to 0,\n",
    "# -- we reject the hypothesis that no variable is relevant\n",
    "p_sig = stats.f.sf(sig_statistic, v, n-v-1)\n",
    "\n",
    "p_sig"
   ]
  },
  {
   "cell_type": "markdown",
   "metadata": {},
   "source": [
    "### Förklaringsgrad (coefficient of multiple determination)\n",
    "När vi vet att regressionen är signifikant är nästa fråga, _hur_ signifikant? Hur mycket av datan täcks av modellen, dvs till vilken grad förklarar modellen datan?\n",
    "\\begin{equation*}\n",
    "R² = \\frac{\\mathrm{SSR}}{S_{yy}}\n",
    "\\end{equation*}\n",
    "\n",
    "Detta är ett värde mellan 0 och 1."
   ]
  },
  {
   "cell_type": "code",
   "execution_count": 30,
   "metadata": {},
   "outputs": [
    {
     "data": {
      "text/plain": [
       "0.9971526071889163"
      ]
     },
     "execution_count": 30,
     "metadata": {},
     "output_type": "execute_result"
    }
   ],
   "source": [
    "Rsq = SSR/Syy\n",
    "\n",
    "Rsq"
   ]
  },
  {
   "cell_type": "markdown",
   "metadata": {},
   "source": [
    "### Modellraffinering\n",
    "\n",
    "Men vilka parametrar är relevanta? Och vi har ju en variabel som bara indikerar vem som gjort observationen. Vad gör vi med den?\n",
    "\n",
    "Vi kan testa variablerna en och en!\n",
    "\n",
    "Test statistika:\n",
    "\\begin{equation}\n",
    "\\frac{\\hat{\\beta_i}}{S\\sqrt{c_{ii}}}\n",
    "\\end{equation}\n",
    "där $\\mathbb{c}_{ii}$ är elementet på rad och kolumn $(i, i)$ en särskild matris, kallad varians-kovarians matrisen.\n",
    "\n",
    "Om hypotesen att variabeln är 0 är sann följer test-statistikan en $T_{n-k-1}$ distribution. Om värdet är väldigt stort eller väldigt litet avfärdar vi hypotesen och variablen _är_ relevant.\n",
    "\n",
    "Det vill säga, om observatörs-indikatorn är relevant så har vi ett observatörs-bias i datan!"
   ]
  },
  {
   "cell_type": "markdown",
   "metadata": {},
   "source": [
    "### Varians/Kovarians matris:\n",
    "\n",
    "Vi härleder inte uttrycket, men på matrisform är det\n",
    "\n",
    "\\begin{equation}\n",
    "\\mathbb{c} = (X^TX)^{-1}\\sigma²\n",
    "\\end{equation}\n",
    "\n",
    "Variansen $\\sigma²$ förekommer på diagonalen i denna matris, och parvis relationer med övriga parametrar (kovarians) fyller ut resten av matrisen. "
   ]
  },
  {
   "cell_type": "code",
   "execution_count": 31,
   "metadata": {},
   "outputs": [
    {
     "name": "stdout",
     "output_type": "stream",
     "text": [
      "2.34224112533387e-44\n"
     ]
    }
   ],
   "source": [
    "# Variance-Covariance matrix\n",
    "c = np.linalg.inv(X.T @ X) * var\n",
    "\n",
    "# Is there is no observer bias?\n",
    "b4_statistic = b[4] / (S*np.sqrt(c[4, 4]))\n",
    "# Two-sided test (rejects for large or small)\n",
    "p_b4 = 2 * min(stats.t.cdf(b4_statistic, n-v-1), stats.t.sf(b4_statistic, n-v-1))\n",
    "print(p_b4)"
   ]
  },
  {
   "cell_type": "markdown",
   "metadata": {},
   "source": [
    "Se där! Det finns ett observatörsbias i datan. \n",
    "\n",
    "Vad gör vi då?\n",
    "\n",
    "I själva verket har vi nu två modeller. Dessa modeller har samma lutning, men olika skärningspunkter!\n",
    "\n",
    "För observatör A är modellen:\n",
    "\\begin{equation}\n",
    "\\mu_A = (\\beta_0 + \\beta_4) + \\beta_1 x_1 + \\beta_2 x_2 + \\beta_3 x_3 \n",
    "\\end{equation}\n",
    "och för B:\n",
    "\\begin{equation}\n",
    "\\mu_B = \\beta_0  + \\beta_1 x_1 + \\beta_2 x_2 + \\beta_3 x_3 \n",
    "\\end{equation}\n",
    "\n",
    "Notera att regressionen har hittat ett värde för $\\beta_4$:"
   ]
  },
  {
   "cell_type": "code",
   "execution_count": 25,
   "metadata": {},
   "outputs": [
    {
     "name": "stdout",
     "output_type": "stream",
     "text": [
      "0.01688050411591574\n"
     ]
    }
   ],
   "source": [
    "print(b[4])"
   ]
  },
  {
   "cell_type": "code",
   "execution_count": 26,
   "metadata": {},
   "outputs": [],
   "source": [
    "# Split models according to observer\n",
    "modA = np.append(b[0] + b[4], b[1:4])\n",
    "modB = b[0:4]\n",
    "Xr = X[:, 0:4]"
   ]
  },
  {
   "cell_type": "markdown",
   "metadata": {},
   "source": [
    "Så vilken modell är bäst?\n",
    "\n"
   ]
  },
  {
   "cell_type": "code",
   "execution_count": 36,
   "metadata": {},
   "outputs": [
    {
     "name": "stdout",
     "output_type": "stream",
     "text": [
      "0.9999999986322857 0.9999999937061224\n"
     ]
    }
   ],
   "source": [
    "# Normalized error around regression line\n",
    "Oa = (y - (Xr @ modA))/var\n",
    "Ob = (y - (Xr @ modB))/var\n",
    "\n",
    "# Binning for chi^2 test, avoiding empty intervals and many low numbers\n",
    "# iteratively found through trial and error\n",
    "binsA, rangesA = np.histogram(Oa, 48, (-20, 21))\n",
    "p_A, _ = np.histogram(Oa, 48, (-20, 21), density=True)\n",
    "\n",
    "# chi^2 goodness-of-fit test\n",
    "# -- rejects for too large values\n",
    "chi_statisticA = 0\n",
    "for i in range(0, 48):\n",
    "    chi_statisticA += (np.square(binsA[i] - n*p_A[i])) / (n*p_A[i])\n",
    "\n",
    "# p-value very large, we do not reject goodness-of-fit\n",
    "p_chiA = stats.chi2.sf(chi_statisticA, 47)\n",
    "\n",
    "binsB, rangesB = np.histogram(Ob, 48, (-20, 21))\n",
    "p_B, _ = np.histogram(Ob, 48, (-20, 21), density=True)\n",
    "\n",
    "chi_statisticB = 0\n",
    "for i in range(0, 48):\n",
    "    chi_statisticB += np.divide((np.square(binsB[i] - n*p_B[i])), (n*p_B[i]))\n",
    "\n",
    "# p-value very large, we do not reject goodness-of-fit\n",
    "p_chiB = stats.chi2.sf(chi_statisticB, 47)\n",
    "print(p_chiA, p_chiB)"
   ]
  },
  {
   "cell_type": "markdown",
   "metadata": {},
   "source": [
    "Modellerna är alltså likvärdiga bortom $3\\sigma$ så skillnaden är i praktiken långt bortom de 99.7% av variansen som regressionen förklarar. Men tekniskt sett är modell A något bättre.\n",
    "\n",
    "Om vi återgår till orginalformen och räknar ut det modellerade flödet för varje mätpunkt och jämför med det uppmätta flödet tillsammans med vår regressionslinje får vi följande graf:\n",
    "\n",
    "![image](../assets/regression.png)"
   ]
  },
  {
   "cell_type": "markdown",
   "metadata": {},
   "source": [
    "Vad är problemen med denna metod?\n",
    "\n",
    "Vet vi något om datan? Utan EDA har vi missat viktiga begränsningar i datan! Denna regression gäller absolut _inte_ för generella rör -- datan innehåller bara några få rör i tydliga grupperingar och denna modell gäller inte alls utanför precis de rör som testats och är inte alls generell. Alla rören har liten diameter och trots att det finns många mätningar är de gjorde på ett litet urval av den möjliga parameterrymden. Det finns alltså inte tillräckligt med \"signal\" i datan för att göra en allmän modell!\n",
    "\n",
    "Modellen är inte heller alls prediktiv. Vi har inte ens försökt träna och testa för att undersöka hur modellen reagerar på okända värden! I själva verket är modellen värdelös för rör med en diameter som är betydligt större -- tex cm ist för mm. Det finns inte heller mycket vi kan göra åt det -- datan innehåller helt enkelt inga datapunkter som skulle låta regressionen hitta en mer generell lösning.\n",
    "\n",
    "För att få vettiga resultat från statistiska modeller gäller det att förstå problemet vi skall lösa!"
   ]
  }
 ],
 "metadata": {
  "kernelspec": {
   "display_name": "Python 3",
   "language": "python",
   "name": "python3"
  },
  "language_info": {
   "codemirror_mode": {
    "name": "ipython",
    "version": 3
   },
   "file_extension": ".py",
   "mimetype": "text/x-python",
   "name": "python",
   "nbconvert_exporter": "python",
   "pygments_lexer": "ipython3",
   "version": "3.11.2"
  }
 },
 "nbformat": 4,
 "nbformat_minor": 2
}
