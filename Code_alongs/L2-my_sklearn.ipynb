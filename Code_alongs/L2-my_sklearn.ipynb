{
 "cells": [
  {
   "cell_type": "code",
   "execution_count": 6,
   "metadata": {},
   "outputs": [
    {
     "data": {
      "text/html": [
       "<div>\n",
       "<style scoped>\n",
       "    .dataframe tbody tr th:only-of-type {\n",
       "        vertical-align: middle;\n",
       "    }\n",
       "\n",
       "    .dataframe tbody tr th {\n",
       "        vertical-align: top;\n",
       "    }\n",
       "\n",
       "    .dataframe thead th {\n",
       "        text-align: right;\n",
       "    }\n",
       "</style>\n",
       "<table border=\"1\" class=\"dataframe\">\n",
       "  <thead>\n",
       "    <tr style=\"text-align: right;\">\n",
       "      <th></th>\n",
       "      <th>TV</th>\n",
       "      <th>Radio</th>\n",
       "      <th>Newspaper</th>\n",
       "      <th>Sales</th>\n",
       "    </tr>\n",
       "  </thead>\n",
       "  <tbody>\n",
       "    <tr>\n",
       "      <th>1</th>\n",
       "      <td>230.1</td>\n",
       "      <td>37.8</td>\n",
       "      <td>69.2</td>\n",
       "      <td>22.1</td>\n",
       "    </tr>\n",
       "    <tr>\n",
       "      <th>2</th>\n",
       "      <td>44.5</td>\n",
       "      <td>39.3</td>\n",
       "      <td>45.1</td>\n",
       "      <td>10.4</td>\n",
       "    </tr>\n",
       "    <tr>\n",
       "      <th>3</th>\n",
       "      <td>17.2</td>\n",
       "      <td>45.9</td>\n",
       "      <td>69.3</td>\n",
       "      <td>9.3</td>\n",
       "    </tr>\n",
       "    <tr>\n",
       "      <th>4</th>\n",
       "      <td>151.5</td>\n",
       "      <td>41.3</td>\n",
       "      <td>58.5</td>\n",
       "      <td>18.5</td>\n",
       "    </tr>\n",
       "    <tr>\n",
       "      <th>5</th>\n",
       "      <td>180.8</td>\n",
       "      <td>10.8</td>\n",
       "      <td>58.4</td>\n",
       "      <td>12.9</td>\n",
       "    </tr>\n",
       "  </tbody>\n",
       "</table>\n",
       "</div>"
      ],
      "text/plain": [
       "      TV  Radio  Newspaper  Sales\n",
       "1  230.1   37.8       69.2   22.1\n",
       "2   44.5   39.3       45.1   10.4\n",
       "3   17.2   45.9       69.3    9.3\n",
       "4  151.5   41.3       58.5   18.5\n",
       "5  180.8   10.8       58.4   12.9"
      ]
     },
     "execution_count": 6,
     "metadata": {},
     "output_type": "execute_result"
    }
   ],
   "source": [
    "import pandas as pd\n",
    "import matplotlib.pyplot as plt\n",
    "import numpy as np\n",
    "\n",
    "df = pd.read_csv('../data/Advertising.csv', index_col=0)\n",
    "# df.shape = (200, 4)\n",
    "df.head()"
   ]
  },
  {
   "cell_type": "code",
   "execution_count": 7,
   "metadata": {},
   "outputs": [
    {
     "data": {
      "text/plain": [
       "(        TV  Radio  Newspaper\n",
       " 1    230.1   37.8       69.2\n",
       " 2     44.5   39.3       45.1\n",
       " 3     17.2   45.9       69.3\n",
       " 4    151.5   41.3       58.5\n",
       " 5    180.8   10.8       58.4\n",
       " ..     ...    ...        ...\n",
       " 196   38.2    3.7       13.8\n",
       " 197   94.2    4.9        8.1\n",
       " 198  177.0    9.3        6.4\n",
       " 199  283.6   42.0       66.2\n",
       " 200  232.1    8.6        8.7\n",
       " \n",
       " [200 rows x 3 columns],\n",
       " 1      22.1\n",
       " 2      10.4\n",
       " 3       9.3\n",
       " 4      18.5\n",
       " 5      12.9\n",
       "        ... \n",
       " 196     7.6\n",
       " 197     9.7\n",
       " 198    12.8\n",
       " 199    25.5\n",
       " 200    13.4\n",
       " Name: Sales, Length: 200, dtype: float64)"
      ]
     },
     "execution_count": 7,
     "metadata": {},
     "output_type": "execute_result"
    }
   ],
   "source": [
    "X = df.drop(\"Sales\", axis=\"columns\")\n",
    "Y = df[\"Sales\"]\n",
    "X, Y"
   ]
  },
  {
   "cell_type": "markdown",
   "metadata": {},
   "source": [
    "### A machine-learning workflow\n",
    "\n",
    "1. Train / test split, if algorithm needs separate validation (ie. k-folds) we have to split multiple times\n",
    "2. Data-processing eg. polynomial features, scaling, centering etc. \n",
    "3. Train, in other words perform regression aka fit to the data\n",
    "4. Predict / transform data / apply model\n",
    "5. Evaluate, compute metrics, statistics etc"
   ]
  },
  {
   "cell_type": "code",
   "execution_count": 8,
   "metadata": {},
   "outputs": [],
   "source": [
    "from sklearn.model_selection import train_test_split\n",
    "\n",
    "X_train, X_test, y_train, y_test = train_test_split(X, Y, test_size=0.3, random_state=42)"
   ]
  },
  {
   "cell_type": "code",
   "execution_count": 9,
   "metadata": {},
   "outputs": [
    {
     "name": "stdout",
     "output_type": "stream",
     "text": [
      "0.00 <= 1.00\n",
      "0.01 <= 1.13\n"
     ]
    }
   ],
   "source": [
    "from sklearn.preprocessing import MinMaxScaler\n",
    "\n",
    "scaler = MinMaxScaler() # create an instance\n",
    "scaler.fit(X_train) # fit only to the training data\n",
    "\n",
    "scaled_X_train = scaler.transform(X_train) # transform the training data\n",
    "scaled_X_test = scaler.transform(X_test) # transform the test data\n",
    "\n",
    "print(f\"{scaled_X_train.min():.2f} <= {scaled_X_train.max():.2f}\")\n",
    "print(f\"{scaled_X_test.min():.2f} <= {scaled_X_test.max():.2f}\") "
   ]
  },
  {
   "cell_type": "code",
   "execution_count": 16,
   "metadata": {},
   "outputs": [
    {
     "name": "stdout",
     "output_type": "stream",
     "text": [
      "Parameters: [13.02832938  9.88465985  0.69237469]\n",
      "Intercept: 2.7418553248528124\n",
      "Coefficient of multiple determination R^2: 0.906\n"
     ]
    }
   ],
   "source": [
    "from sklearn.linear_model import LinearRegression # under the hood, svd is used to solve the linear regression\n",
    "\n",
    "model = LinearRegression() # create an instance of the model\n",
    "model.fit(scaled_X_train, y_train) # fit the model to the scaled training data\n",
    "\n",
    "print(f\"Parameters: {model.coef_}\") # the coefficients\n",
    "print(f\"Intercept: {model.intercept_}\") # the intercept\n",
    "print(f\"Coefficient of multiple determination R^2: {model.score(scaled_X_train, y_train):.3f}\") # the R^2 score"
   ]
  },
  {
   "cell_type": "code",
   "execution_count": 25,
   "metadata": {},
   "outputs": [
    {
     "name": "stdout",
     "output_type": "stream",
     "text": [
      "Mean Absolute Error, MAE: 1.512\n",
      "Mean Squared Error, MSE: 3.797\n",
      "Root Mean Squared Error, RMSE: 1.949\n"
     ]
    }
   ],
   "source": [
    "from sklearn.metrics import mean_absolute_error, mean_squared_error\n",
    "\n",
    "y_pred = model.predict(scaled_X_test) # predict the test data\n",
    "\n",
    "mae = mean_absolute_error(y_test, y_pred) # the mean absolute error\n",
    "mse = mean_squared_error(y_test, y_pred) # the mean squared error\n",
    "rmse = np.sqrt(mse) # the root mean squared error\n",
    "\n",
    "print(f\"Mean Absolute Error, MAE: {mae:.3f}\\nMean Squared Error, MSE: {mse:.3f}\\nRoot Mean Squared Error, RMSE: {rmse:.3f}\")"
   ]
  },
  {
   "cell_type": "code",
   "execution_count": null,
   "metadata": {},
   "outputs": [],
   "source": []
  }
 ],
 "metadata": {
  "kernelspec": {
   "display_name": "MachineLearning-Alexander-Wessner-bZKByvNU",
   "language": "python",
   "name": "python3"
  },
  "language_info": {
   "codemirror_mode": {
    "name": "ipython",
    "version": 3
   },
   "file_extension": ".py",
   "mimetype": "text/x-python",
   "name": "python",
   "nbconvert_exporter": "python",
   "pygments_lexer": "ipython3",
   "version": "3.11.5"
  }
 },
 "nbformat": 4,
 "nbformat_minor": 2
}
